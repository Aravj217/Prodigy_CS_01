{
 "cells": [
  {
   "cell_type": "code",
   "execution_count": 1,
   "id": "89933428-d2ba-47a3-99fc-4c0e863c3175",
   "metadata": {},
   "outputs": [
    {
     "name": "stdout",
     "output_type": "stream",
     "text": [
      "Welcome to Caesar Cipher Encryptor/Decryptor\n"
     ]
    },
    {
     "name": "stdin",
     "output_type": "stream",
     "text": [
      "\n",
      "Type 'encrypt' to encrypt or 'decrypt' to decrypt:  encrypt\n",
      "Enter your message:  this is your game\n",
      "Enter Password (integer):  33\n"
     ]
    },
    {
     "name": "stdout",
     "output_type": "stream",
     "text": [
      "Encrypted message: aopz pz fvby nhtl\n"
     ]
    },
    {
     "name": "stdin",
     "output_type": "stream",
     "text": [
      "\n",
      "Would you like to try again? (yes/no):  yes\n",
      "\n",
      "Type 'encrypt' to encrypt or 'decrypt' to decrypt:  decrypt\n",
      "Enter your message:  aopz pz fvby nhtl\n",
      "Enter Password (integer):  33\n"
     ]
    },
    {
     "name": "stdout",
     "output_type": "stream",
     "text": [
      "Decrypted message: this is your game\n"
     ]
    },
    {
     "name": "stdin",
     "output_type": "stream",
     "text": [
      "\n",
      "Would you like to try again? (yes/no):  no\n"
     ]
    },
    {
     "name": "stdout",
     "output_type": "stream",
     "text": [
      "Goodbye!\n"
     ]
    }
   ],
   "source": [
    "def caesar_cipher_encrypt(text, shift):\n",
    "    result = \"\"\n",
    "    for char in text:\n",
    "        if char.isalpha():\n",
    "            start = ord('A') if char.isupper() else ord('a')\n",
    "            shifted = (ord(char) - start + shift) % 26 + start\n",
    "            result += chr(shifted)\n",
    "        else:\n",
    "            result += char\n",
    "    return result\n",
    "\n",
    "def caesar_cipher_decrypt(text, shift):\n",
    "    return caesar_cipher_encrypt(text, -shift)\n",
    "\n",
    "def main():\n",
    "    print(\"Welcome to Caesar Cipher Encryptor/Decryptor\")\n",
    "    \n",
    "    while True:\n",
    "        choice = input(\"\\nType 'encrypt' to encrypt or 'decrypt' to decrypt: \").strip().lower()\n",
    "        \n",
    "        if choice not in ['encrypt', 'decrypt']:\n",
    "            print(\"Invalid choice. Please type 'encrypt' or 'decrypt'.\")\n",
    "            continue\n",
    "\n",
    "        message = input(\"Enter your message: \")\n",
    "        \n",
    "        try:\n",
    "            shift = int(input(\"Enter Password (integer): \"))\n",
    "        except ValueError:\n",
    "            print(\"Shift value must be an integer.\")\n",
    "            continue\n",
    "\n",
    "        if choice == 'encrypt':\n",
    "            encrypted = caesar_cipher_encrypt(message, shift)\n",
    "            print(f\"Encrypted message: {encrypted}\")\n",
    "        else:\n",
    "            decrypted = caesar_cipher_decrypt(message, shift)\n",
    "            print(f\"Decrypted message: {decrypted}\")\n",
    "\n",
    "        try_again = input(\"\\nWould you like to try again? (yes/no): \").strip().lower()\n",
    "        if try_again != 'yes':\n",
    "            print(\"Goodbye!\")\n",
    "            break\n",
    "\n",
    "if __name__ == \"__main__\":\n",
    "    main()\n"
   ]
  },
  {
   "cell_type": "code",
   "execution_count": null,
   "id": "f0836647-4b97-4123-a825-441f14b053f7",
   "metadata": {},
   "outputs": [],
   "source": []
  }
 ],
 "metadata": {
  "kernelspec": {
   "display_name": "Python 3 (ipykernel)",
   "language": "python",
   "name": "python3"
  },
  "language_info": {
   "codemirror_mode": {
    "name": "ipython",
    "version": 3
   },
   "file_extension": ".py",
   "mimetype": "text/x-python",
   "name": "python",
   "nbconvert_exporter": "python",
   "pygments_lexer": "ipython3",
   "version": "3.12.7"
  }
 },
 "nbformat": 4,
 "nbformat_minor": 5
}
